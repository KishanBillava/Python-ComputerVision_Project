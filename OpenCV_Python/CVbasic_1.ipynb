{
 "cells": [
  {
   "cell_type": "raw",
   "id": "82171137-5efc-455b-8686-eb106bd03b28",
   "metadata": {},
   "source": [
    "import sys\n",
    "print(len(sys.argv))\n",
    "print(sys.argv[0])"
   ]
  },
  {
   "cell_type": "code",
   "execution_count": 1,
   "id": "8076ac49-54df-430b-8f76-ca34ae215b1a",
   "metadata": {},
   "outputs": [],
   "source": [
    "# \n",
    "# \n",
    "# "
   ]
  },
  {
   "cell_type": "code",
   "execution_count": 2,
   "id": "4bfe713e-6ae4-446b-964d-c02b95fb4f62",
   "metadata": {},
   "outputs": [
    {
     "name": "stdout",
     "output_type": "stream",
     "text": [
      "4.5.3\n",
      "1.20.3\n"
     ]
    }
   ],
   "source": [
    "import cv2\n",
    "import numpy as np\n",
    "#\n",
    "print(cv2.__version__)\n",
    "print(np.__version__)"
   ]
  },
  {
   "cell_type": "code",
   "execution_count": 6,
   "id": "c70a1671-3573-4116-ade6-209f9b814dc4",
   "metadata": {},
   "outputs": [],
   "source": [
    "# channel order is BGR\n",
    "image  = cv2.imread('data/elephant.png', cv2.IMREAD_GRAYSCALE) # IMREAD_COLOR, IMREAD_UNCHANGED\n",
    "cv2.imshow('image', image)\n",
    "cv2.waitKey()\n",
    "cv2.destroyAllWindows()"
   ]
  },
  {
   "cell_type": "code",
   "execution_count": 8,
   "id": "58dd7ac1-3308-4ddc-9796-cdeff6d2e5c5",
   "metadata": {},
   "outputs": [
    {
     "name": "stdout",
     "output_type": "stream",
     "text": [
      "Frames are 30.0\n",
      "height are 480.0\n",
      "width are 640.0\n"
     ]
    }
   ],
   "source": [
    "cap = cv2.VideoCapture(2) # or video name \n",
    "opened = cap.isOpened() # check if cam is open\n",
    "\n",
    "height = cap.get(cv2.CAP_PROP_FRAME_HEIGHT)\n",
    "width = cap.get(cv2.CAP_PROP_FRAME_WIDTH)\n",
    "fps = cap.get(cv2.CAP_PROP_FPS)\n",
    "print(\"Frames are {}\".format(fps))\n",
    "print(\"height are {}\".format(height))\n",
    "print(\"width are {}\".format(width))\n",
    "\n",
    "# fourcc('X','V','I','D')\n",
    "fourcc = cv2.VideoWriter_fourcc(*'MJPG')\n",
    "# video writer\n",
    "out = cv2.VideoWriter('data/JJ.avi', fourcc, fps, (int(width), int(height)))\n",
    "\n",
    "if(opened):\n",
    "    while(cap.isOpened()):\n",
    "        ret, frame  = cap.read() # this give frame and return bool from frame\n",
    "        if (ret==True):\n",
    "            cv2.imshow('winname', frame)\n",
    "            out.write(frame)\n",
    "            if(cv2.waitKey(2)==27):\n",
    "                break\n",
    "    out.release()\n",
    "    cap.release()\n",
    "cv2.destroyAllWindows()"
   ]
  },
  {
   "cell_type": "code",
   "execution_count": 10,
   "id": "8e0b2ccf-b8ce-450c-aec8-06ef484b7e4c",
   "metadata": {},
   "outputs": [],
   "source": [
    "# mini project "
   ]
  },
  {
   "cell_type": "code",
   "execution_count": null,
   "id": "3bcc2607-3062-4743-9a74-31c48532c77a",
   "metadata": {},
   "outputs": [],
   "source": []
  }
 ],
 "metadata": {
  "kernelspec": {
   "display_name": "Python 3 (ipykernel)",
   "language": "python",
   "name": "python3"
  },
  "language_info": {
   "codemirror_mode": {
    "name": "ipython",
    "version": 3
   },
   "file_extension": ".py",
   "mimetype": "text/x-python",
   "name": "python",
   "nbconvert_exporter": "python",
   "pygments_lexer": "ipython3",
   "version": "3.9.7"
  }
 },
 "nbformat": 4,
 "nbformat_minor": 5
}
