{
 "cells": [
  {
   "cell_type": "code",
   "execution_count": 4,
   "id": "04551728-fa54-4cb3-9703-ff169bb386ca",
   "metadata": {},
   "outputs": [],
   "source": [
    "import numpy as np\n",
    "import cv2"
   ]
  },
  {
   "cell_type": "code",
   "execution_count": 5,
   "id": "229230b8-f58f-4f72-afd1-7ebea842d2bf",
   "metadata": {},
   "outputs": [
    {
     "name": "stdout",
     "output_type": "stream",
     "text": [
      "1.20.3\n",
      "4.5.3\n"
     ]
    }
   ],
   "source": [
    "print(np.__version__)\n",
    "print(cv2.__version__)"
   ]
  },
  {
   "cell_type": "code",
   "execution_count": 6,
   "id": "9d6d611f-b01f-4d3a-b685-80de0986d41c",
   "metadata": {},
   "outputs": [
    {
     "name": "stdout",
     "output_type": "stream",
     "text": [
      "[1 2 3]\n"
     ]
    }
   ],
   "source": [
    "arr = np.array([1,2,3])\n",
    "print(arr)"
   ]
  },
  {
   "cell_type": "code",
   "execution_count": 8,
   "id": "02b43635-7100-49a8-b732-95c2474259ce",
   "metadata": {},
   "outputs": [
    {
     "name": "stdout",
     "output_type": "stream",
     "text": [
      "[[1]\n",
      " [2]\n",
      " [3]]\n"
     ]
    }
   ],
   "source": [
    "arr_v = np.array([[1],[2],[3]])\n",
    "print(arr_v)"
   ]
  },
  {
   "cell_type": "code",
   "execution_count": 10,
   "id": "5aa66c4e-556a-441b-bbee-68c3bcafefd2",
   "metadata": {},
   "outputs": [
    {
     "name": "stdout",
     "output_type": "stream",
     "text": [
      "[[1 2 3]\n",
      " [3 4 5]]\n"
     ]
    }
   ],
   "source": [
    "arr = np.array([(1,2,3),(3,4,5)])\n",
    "print(arr)"
   ]
  },
  {
   "cell_type": "code",
   "execution_count": 11,
   "id": "2f1aa17f-51c9-49b1-b3c7-7d84e212a6c4",
   "metadata": {},
   "outputs": [
    {
     "name": "stdout",
     "output_type": "stream",
     "text": [
      "[[[1 2 3]\n",
      "  [4 5 6]]\n",
      "\n",
      " [[1 2 3]\n",
      "  [4 5 6]]]\n"
     ]
    }
   ],
   "source": [
    "arr_d = np.array([ [(1,2,3),(4,5,6)] , [(1,2,3),(4,5,6)] ])\n",
    "print(arr_d)"
   ]
  },
  {
   "cell_type": "code",
   "execution_count": 12,
   "id": "2c33b2a1-9c7b-42a8-90b6-80cb07a7a2d4",
   "metadata": {},
   "outputs": [],
   "source": [
    "#"
   ]
  },
  {
   "cell_type": "code",
   "execution_count": 14,
   "id": "a2e48d79-ec0b-4625-b205-e94d398d4dfb",
   "metadata": {},
   "outputs": [
    {
     "name": "stdout",
     "output_type": "stream",
     "text": [
      "[[0 0 0]\n",
      " [0 0 0]\n",
      " [0 0 0]]\n"
     ]
    }
   ],
   "source": [
    "arr = np.zeros((3,3), dtype='int')\n",
    "print(arr)"
   ]
  },
  {
   "cell_type": "code",
   "execution_count": 15,
   "id": "cc3f9687-0250-4b8e-a39d-726541d3d166",
   "metadata": {},
   "outputs": [
    {
     "name": "stdout",
     "output_type": "stream",
     "text": [
      "[[1 1 1 1 1]\n",
      " [1 1 1 1 1]\n",
      " [1 1 1 1 1]]\n"
     ]
    }
   ],
   "source": [
    "arr = np.ones((3,5), dtype='int')\n",
    "print(arr)"
   ]
  },
  {
   "cell_type": "code",
   "execution_count": 16,
   "id": "fa38923a-d707-4979-a32c-60e075c55476",
   "metadata": {},
   "outputs": [
    {
     "name": "stdout",
     "output_type": "stream",
     "text": [
      "[[5 5 5 5 5]\n",
      " [5 5 5 5 5]\n",
      " [5 5 5 5 5]]\n"
     ]
    }
   ],
   "source": [
    "arr = np.full((3,5), 5)\n",
    "print(arr)"
   ]
  },
  {
   "cell_type": "code",
   "execution_count": 18,
   "id": "f973e312-740f-4621-a171-da5656d44a58",
   "metadata": {},
   "outputs": [
    {
     "name": "stdout",
     "output_type": "stream",
     "text": [
      "[[1. 0. 0.]\n",
      " [0. 1. 0.]\n",
      " [0. 0. 1.]]\n"
     ]
    }
   ],
   "source": [
    "arr = np.eye(3)\n",
    "print(arr)"
   ]
  },
  {
   "cell_type": "code",
   "execution_count": 19,
   "id": "fbb18481-31e7-4556-a30d-dc69f8f8f3cc",
   "metadata": {},
   "outputs": [],
   "source": [
    "#"
   ]
  },
  {
   "cell_type": "code",
   "execution_count": 20,
   "id": "ae84f348-4191-41e0-a0b0-61057c86b49d",
   "metadata": {},
   "outputs": [
    {
     "name": "stdout",
     "output_type": "stream",
     "text": [
      "[0 2 4 6 8]\n"
     ]
    }
   ],
   "source": [
    "arr = np.arange(0,10,2)\n",
    "print(arr)"
   ]
  },
  {
   "cell_type": "code",
   "execution_count": 21,
   "id": "284de978-4088-4119-b42e-f21c97ae74a4",
   "metadata": {},
   "outputs": [
    {
     "name": "stdout",
     "output_type": "stream",
     "text": [
      "[0.   0.25 0.5  0.75 1.   1.25 1.5  1.75 2.  ]\n"
     ]
    }
   ],
   "source": [
    "arr = np.linspace(0,2,9)\n",
    "print(arr)"
   ]
  },
  {
   "cell_type": "code",
   "execution_count": 26,
   "id": "2edb06d7-5603-49fd-8de4-ebeccd73146e",
   "metadata": {},
   "outputs": [
    {
     "name": "stdout",
     "output_type": "stream",
     "text": [
      "[[ 24.49478564  25.14860152  50.68368043]\n",
      " [185.63404107  29.05020422  93.58888023]]\n"
     ]
    }
   ],
   "source": [
    "# used to create a noise function \n",
    "arr = np.random.rand(2,3)*255\n",
    "print(arr)"
   ]
  },
  {
   "cell_type": "code",
   "execution_count": 29,
   "id": "d8330565-7da2-4d1b-8b2a-7331ef47ffa2",
   "metadata": {},
   "outputs": [
    {
     "name": "stdout",
     "output_type": "stream",
     "text": [
      "[[2 3 3]\n",
      " [4 1 1]\n",
      " [2 0 4]]\n"
     ]
    }
   ],
   "source": [
    "# used to create a noise function \n",
    "arr = np.random.randint(5,size=(3,3))\n",
    "print(arr)"
   ]
  },
  {
   "cell_type": "code",
   "execution_count": 31,
   "id": "196d04ad-476c-4aef-8222-f4b7db5b5702",
   "metadata": {},
   "outputs": [],
   "source": [
    "# array inspection "
   ]
  },
  {
   "cell_type": "code",
   "execution_count": 41,
   "id": "2fdf289a-4479-4696-8457-78b2348e1f28",
   "metadata": {},
   "outputs": [
    {
     "name": "stdout",
     "output_type": "stream",
     "text": [
      "[[1.5 2.  3. ]\n",
      " [4.  5.  6. ]]\n",
      "(2, 3)\n",
      "6\n",
      "float64\n",
      "\n",
      "[[1 2 3]\n",
      " [4 5 6]]\n",
      "float64\n"
     ]
    }
   ],
   "source": [
    "# here row 2 (height)  and column 3 (width) \n",
    "arr = np.array([(1.5,2,3),(4,5,6)])\n",
    "print(arr)\n",
    "print(arr.shape)\n",
    "print(arr.size)\n",
    "print(arr.dtype)\n",
    "print('')\n",
    "arr_1 = arr.astype(int)\n",
    "print(arr_1)\n",
    "print(arr.dtype)"
   ]
  },
  {
   "cell_type": "code",
   "execution_count": 44,
   "id": "746b7510-5a7c-4d4f-b8c9-a50285dc119f",
   "metadata": {},
   "outputs": [],
   "source": [
    "#"
   ]
  },
  {
   "cell_type": "code",
   "execution_count": 48,
   "id": "3821452a-b378-4f22-812f-bf01db1fffdf",
   "metadata": {},
   "outputs": [
    {
     "name": "stdout",
     "output_type": "stream",
     "text": [
      "[[10 20 30]\n",
      " [70 80 90]]\n",
      "[[ 2  4  6]\n",
      " [11 13 15]]\n",
      "1\n"
     ]
    }
   ],
   "source": [
    "arr_1 = np.array([(1,2,3),(4,5,6)])\n",
    "arr_2 = np.array([(1,2,3),(7,8,9)])\n",
    "\n",
    "arr_f = arr_1 + arr_2   # - * / \n",
    "arr_b = arr_2 * 10 # this will bright the image \n",
    "print(arr_b)\n",
    "print(arr_f)\n",
    "print(arr_1.min())"
   ]
  },
  {
   "cell_type": "code",
   "execution_count": 49,
   "id": "00bea599-dd6d-44ea-a1aa-00659b4c4d61",
   "metadata": {},
   "outputs": [],
   "source": [
    "#\n",
    "#\n",
    "#"
   ]
  },
  {
   "cell_type": "code",
   "execution_count": 61,
   "id": "18f54425-1470-4dff-ab7c-7a56caff5ddf",
   "metadata": {},
   "outputs": [
    {
     "name": "stdout",
     "output_type": "stream",
     "text": [
      "[4 5 6]\n",
      "\n",
      "[[1 2 3]\n",
      " [4 5 6]]\n",
      "\n",
      "[2 3]\n",
      "\n",
      "[[4 5 6]\n",
      " [1 2 3]]\n"
     ]
    }
   ],
   "source": [
    "arr = np.array([(1,2,3),(4,5,6)])\n",
    "print(arr[1,:])\n",
    "print('')\n",
    "print(arr[:])\n",
    "print('')\n",
    "print(arr[0,1:3])\n",
    "print('')\n",
    "print(arr[::-1]) # reverse "
   ]
  },
  {
   "cell_type": "code",
   "execution_count": 72,
   "id": "ef0562bf-0383-4e2f-8dfd-870ebaf91767",
   "metadata": {},
   "outputs": [
    {
     "name": "stdout",
     "output_type": "stream",
     "text": [
      "[[1 2 3 4 5 6 7 8 9]]\n",
      "\n",
      "[[1 2 3]\n",
      " [4 5 6]\n",
      " [7 8 9]]\n",
      "\n",
      "[ 1  2  3  4  5  6  7  8  9 10]\n",
      "\n",
      "[1 2 3 4 5 6 7 8]\n",
      "\n",
      "[1 2 3 4 5 6 7 8 9]\n",
      "\n"
     ]
    }
   ],
   "source": [
    "arr = np.array([1,2,3,4,5,6,7,8,9])\n",
    "\n",
    "arr1 = arr.reshape(1,9)\n",
    "print(arr1)\n",
    "print('')\n",
    "\n",
    "arr1 = arr.reshape(3,3)\n",
    "print(arr1)\n",
    "print('')\n",
    "\n",
    "arr1 = np.append(arr,10)\n",
    "print(arr1)\n",
    "print('')\n",
    "\n",
    "arr1 = np.delete(arr,8)\n",
    "print(arr1)\n",
    "print('')\n",
    "\n",
    "arr1 = arr.ravel() # to flattern the array , this is like single vector\n",
    "print(arr1)\n",
    "print('')"
   ]
  },
  {
   "cell_type": "code",
   "execution_count": 79,
   "id": "1eae5fb3-fcb4-4896-afa7-25cd72dbe4e6",
   "metadata": {},
   "outputs": [
    {
     "name": "stdout",
     "output_type": "stream",
     "text": [
      "\n",
      "[1 2 3 4 5 6 7 8 9 1 2 3]\n",
      "\n",
      "[[1 2 3]\n",
      " [4 5 6]]\n",
      "\n",
      "[[1 4]\n",
      " [2 5]\n",
      " [3 6]]\n"
     ]
    }
   ],
   "source": [
    "arr = np.array([1,2,3,4,5,6,7,8,9])\n",
    "arr1 = np.array([1,2,3])\n",
    "\n",
    "print('')\n",
    "print(np.concatenate((arr, arr1)))\n",
    "\n",
    "print('')\n",
    "arr = np.array([(1,2,3),(4,5,6)])\n",
    "print(arr)\n",
    "print('')\n",
    "print(np.transpose(arr))"
   ]
  },
  {
   "cell_type": "code",
   "execution_count": 80,
   "id": "2b20fb8f-360a-4d3f-8b7c-a8d61fdcd67e",
   "metadata": {},
   "outputs": [
    {
     "name": "stdout",
     "output_type": "stream",
     "text": [
      "[[1 2 3 4]\n",
      " [5 6 7 8]]\n"
     ]
    }
   ],
   "source": [
    "arr = np.array([(1,2,3,4),(5,6,7,8)])\n",
    "arr1 = np.copy(arr)\n",
    "print(arr1)"
   ]
  },
  {
   "cell_type": "code",
   "execution_count": 81,
   "id": "23654659-345d-4fee-bb20-a3b08c7f8ff5",
   "metadata": {},
   "outputs": [],
   "source": [
    "#\n",
    "#\n",
    "#"
   ]
  },
  {
   "cell_type": "code",
   "execution_count": 82,
   "id": "8220a8d3-4c40-4763-afec-1fd74f87641f",
   "metadata": {},
   "outputs": [
    {
     "data": {
      "text/plain": [
       "True"
      ]
     },
     "execution_count": 82,
     "metadata": {},
     "output_type": "execute_result"
    }
   ],
   "source": [
    "image = np.zeros((500,500))\n",
    "image[:,:] = 100\n",
    "image = image[:,:]+10\n",
    "image[100:200, 200:300] = 255\n",
    "#\n",
    "cv2.imwrite('data/sample.jpg', image)"
   ]
  },
  {
   "cell_type": "code",
   "execution_count": null,
   "id": "3bdeae17-cae0-44c5-b50b-bfadfa06da24",
   "metadata": {},
   "outputs": [],
   "source": []
  },
  {
   "cell_type": "code",
   "execution_count": null,
   "id": "df79caf9-902e-4a1c-8991-5bb282087b24",
   "metadata": {},
   "outputs": [],
   "source": []
  }
 ],
 "metadata": {
  "kernelspec": {
   "display_name": "Python 3 (ipykernel)",
   "language": "python",
   "name": "python3"
  },
  "language_info": {
   "codemirror_mode": {
    "name": "ipython",
    "version": 3
   },
   "file_extension": ".py",
   "mimetype": "text/x-python",
   "name": "python",
   "nbconvert_exporter": "python",
   "pygments_lexer": "ipython3",
   "version": "3.9.7"
  }
 },
 "nbformat": 4,
 "nbformat_minor": 5
}
